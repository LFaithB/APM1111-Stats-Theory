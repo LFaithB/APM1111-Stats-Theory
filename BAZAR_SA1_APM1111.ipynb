{
 "cells": [
  {
   "cell_type": "code",
   "execution_count": 6,
   "metadata": {},
   "outputs": [],
   "source": [
    "import pandas as pd \n",
    "\n",
    "data = pd.read_csv('Table10.6.csv')"
   ]
  },
  {
   "cell_type": "code",
   "execution_count": 21,
   "metadata": {},
   "outputs": [
    {
     "data": {
      "text/html": [
       "<div>\n",
       "<style scoped>\n",
       "    .dataframe tbody tr th:only-of-type {\n",
       "        vertical-align: middle;\n",
       "    }\n",
       "\n",
       "    .dataframe tbody tr th {\n",
       "        vertical-align: top;\n",
       "    }\n",
       "\n",
       "    .dataframe thead th {\n",
       "        text-align: right;\n",
       "    }\n",
       "</style>\n",
       "<table border=\"1\" class=\"dataframe\">\n",
       "  <thead>\n",
       "    <tr style=\"text-align: right;\">\n",
       "      <th></th>\n",
       "      <th>Males</th>\n",
       "      <th>Females</th>\n",
       "    </tr>\n",
       "  </thead>\n",
       "  <tbody>\n",
       "    <tr>\n",
       "      <th>0</th>\n",
       "      <td>12</td>\n",
       "      <td>11</td>\n",
       "    </tr>\n",
       "    <tr>\n",
       "      <th>1</th>\n",
       "      <td>4</td>\n",
       "      <td>9</td>\n",
       "    </tr>\n",
       "    <tr>\n",
       "      <th>2</th>\n",
       "      <td>11</td>\n",
       "      <td>7</td>\n",
       "    </tr>\n",
       "    <tr>\n",
       "      <th>3</th>\n",
       "      <td>13</td>\n",
       "      <td>10</td>\n",
       "    </tr>\n",
       "    <tr>\n",
       "      <th>4</th>\n",
       "      <td>11</td>\n",
       "      <td>9</td>\n",
       "    </tr>\n",
       "    <tr>\n",
       "      <th>5</th>\n",
       "      <td>7</td>\n",
       "      <td>10</td>\n",
       "    </tr>\n",
       "    <tr>\n",
       "      <th>6</th>\n",
       "      <td>9</td>\n",
       "      <td>10</td>\n",
       "    </tr>\n",
       "    <tr>\n",
       "      <th>7</th>\n",
       "      <td>10</td>\n",
       "      <td>7</td>\n",
       "    </tr>\n",
       "    <tr>\n",
       "      <th>8</th>\n",
       "      <td>10</td>\n",
       "      <td>9</td>\n",
       "    </tr>\n",
       "    <tr>\n",
       "      <th>9</th>\n",
       "      <td>7</td>\n",
       "      <td>10</td>\n",
       "    </tr>\n",
       "  </tbody>\n",
       "</table>\n",
       "</div>"
      ],
      "text/plain": [
       "   Males  Females\n",
       "0     12       11\n",
       "1      4        9\n",
       "2     11        7\n",
       "3     13       10\n",
       "4     11        9\n",
       "5      7       10\n",
       "6      9       10\n",
       "7     10        7\n",
       "8     10        9\n",
       "9      7       10"
      ]
     },
     "execution_count": 21,
     "metadata": {},
     "output_type": "execute_result"
    }
   ],
   "source": [
    "data.head(10)"
   ]
  },
  {
   "cell_type": "markdown",
   "metadata": {},
   "source": [
    "The researcher aims to determine if there is a statistically significant difference in the mean time spent on cellphones per week between male and female college students. The data consists of the number of hours per week spent by 50 male and 50 female students from Midwestern University on their phones."
   ]
  },
  {
   "cell_type": "markdown",
   "metadata": {},
   "source": [
    "**1. Formulate and present the rationale for a hypothesis test that the researcher could use to compare the mean time spent on cell phones by male and female college students per week.**"
   ]
  },
  {
   "cell_type": "markdown",
   "metadata": {},
   "source": [
    "**Hypotheses**"
   ]
  },
  {
   "cell_type": "markdown",
   "metadata": {},
   "source": [
    "- Null Hypothesis ($H_0$): There is no difference in the mean times spent on cellphones between male and female students. This is can be stated as: \n",
    "  $$H_0:\\mu_1 = \\mu_2 $$\n",
    "  where\n",
    "  - $\\mu_1$ = mean time spent on cellphones per week by male students.\n",
    "  - $\\mu_2$ = mean time spent on cellphones per week by female students.\n",
    "- Alternative Hypothesis ($H_1$): There is a difference in the mean times spent on cellphones between male and female students. Mathematically:\n",
    "  $$H_0:\\mu_1 \\neq \\mu_2 $$"
   ]
  },
  {
   "cell_type": "markdown",
   "metadata": {},
   "source": [
    "**Rationale for the Hypothesis Test**\n",
    "\n",
    "Based from the hypotheses above, the independent sample t-test or the two sample t-test is the hypothesis test that is best recommended for the researcher to use. This test will allow the researchers to determine whether there is a statistical difference between the population means for the two groups. \n",
    "\n",
    "*Note: Prior to conducting t-test, the t-test assumes the following presumptions about the data:*\n",
    "\n",
    "1. The data for male and female students are independent samples.\n",
    "2. The distribution of time spent on cell phones is approximately normal.\n",
    "3. The male and female students have equal variances.\n",
    "\n",
    "Based from the description, this is not a paired design or matched-pair scenario, and no connections between the two groups were mentioned, the independence assumption is met in this case. If normality and equal variances also holds, the researcher can proceed with the t-test. In cases where assumptions are not met, consider non-parametric alternatives such as Mann-Whitney U test for non-normally distributed data or the Wilcoxon Signed rank test for unequal variances."
   ]
  },
  {
   "cell_type": "markdown",
   "metadata": {},
   "source": [
    "**2. Analyze the data to provide the hypothesis testing conclusion. What is the p-value for your test? What is your recommendation for the researcher?**"
   ]
  },
  {
   "cell_type": "markdown",
   "metadata": {},
   "source": [
    "**Assumption 2: Normality Check Using Shapiro-Wilk Test**"
   ]
  },
  {
   "cell_type": "code",
   "execution_count": 12,
   "metadata": {},
   "outputs": [
    {
     "name": "stdout",
     "output_type": "stream",
     "text": [
      "Male: Test Statistic = 0.9746540784835815, p-value = 0.35399243235588074\n",
      "Female: Test Statistic = 0.9638767838478088, p-value = 0.12919674813747406\n"
     ]
    }
   ],
   "source": [
    "import scipy.stats as stats\n",
    "\n",
    "male_times = data['Males']\n",
    "female_times = data['Females']\n",
    "\n",
    "shapiro_male = stats.shapiro(male_times)\n",
    "shapiro_female = stats.shapiro(female_times)\n",
    "\n",
    "print(f\"Male: Test Statistic = {shapiro_male.statistic}, p-value = {shapiro_male.pvalue}\")\n",
    "print(f\"Female: Test Statistic = {shapiro_female.statistic}, p-value = {shapiro_female.pvalue}\")"
   ]
  },
  {
   "cell_type": "markdown",
   "metadata": {},
   "source": [
    "Both males and females data on hours spent talking on cellphones are normally distributed, as evidenced by a p-value greater than 0.05"
   ]
  },
  {
   "cell_type": "markdown",
   "metadata": {},
   "source": [
    "As a good measure though, we will still look for any potential outliers that could violate the normalcy assumption or could skew the analysis. "
   ]
  },
  {
   "cell_type": "code",
   "execution_count": 26,
   "metadata": {},
   "outputs": [
    {
     "data": {
      "image/png": "[encoded data removed]",
      "text/plain": [
       "<Figure size 800x600 with 1 Axes>"
      ]
     },
     "metadata": {},
     "output_type": "display_data"
    }
   ],
   "source": [
    "import matplotlib.pyplot as plt\n",
    "\n",
    "data = [male_times, female_times]\n",
    "labels = ['Males', 'Females']\n",
    "plt.figure(figsize=(8,6))\n",
    "box = plt.boxplot(data, labels=labels, patch_artist=True)\n",
    "colors = ['lightblue', 'lightpink']\n",
    "for patch, color in zip(box['boxes'], colors):\n",
    "    patch.set_facecolor(color)\n",
    "    \n",
    "plt.title('Time on Cellphones by Gender')\n",
    "plt.ylabel('Hours per week')\n",
    "plt.grid(axis='y')\n",
    "plt.show()"
   ]
  },
  {
   "cell_type": "markdown",
   "metadata": {},
   "source": [
    "Notice that there are hollowed circles outside the whiskers of the boxplot in Males. These points represents cases over 1.5 box lengths from the upper or lower end of the box and are called outliers. This means that there are males who use their phones far more (15) or less (4) than the majority of the male students in the data. \n",
    "\n",
    "After giving them some thought, it's best to keep them since extreme or low phone usage may be uncommon but realistic. It is a plausible behavior which might be useful later on."
   ]
  },
  {
   "cell_type": "markdown",
   "metadata": {},
   "source": [
    "**Assumption 3: Variance Check Using Levene Test**"
   ]
  },
  {
   "cell_type": "code",
   "execution_count": 11,
   "metadata": {},
   "outputs": [
    {
     "name": "stdout",
     "output_type": "stream",
     "text": [
      "Test Statistic = 0.6943460393935098, p-value = 0.40671633986363454\n"
     ]
    }
   ],
   "source": [
    "levene_test = stats.levene(male_times, female_times)\n",
    "\n",
    "print(f\"Test Statistic = {levene_test.statistic}, p-value = {levene_test.pvalue}\")"
   ]
  },
  {
   "cell_type": "markdown",
   "metadata": {},
   "source": [
    "As the p-value is greater than the significance level of 0.05, the two samples, male and female, have equal variances."
   ]
  },
  {
   "cell_type": "markdown",
   "metadata": {},
   "source": [
    "**Two Sample T-test**\n",
    "\n",
    "    Since all assumptions holds, we proceed with conducting the t-test."
   ]
  },
  {
   "cell_type": "code",
   "execution_count": 15,
   "metadata": {},
   "outputs": [
    {
     "name": "stdout",
     "output_type": "stream",
     "text": [
      "T-statistic: 0.3039, p-value: 0.7618\n"
     ]
    }
   ],
   "source": [
    "t_statistic, p_value = stats.ttest_ind(male_times, female_times)\n",
    "\n",
    "print(f\"T-statistic: {t_statistic:.4f}, p-value: {p_value:.4f}\")"
   ]
  },
  {
   "cell_type": "markdown",
   "metadata": {},
   "source": [
    "> The p-value (0.7618) is significantly greater than the significance level of 0.05, therefore, we fail to reject the null hypothesis. This means that based on the t-test, there is no significant difference in the mean time spent on cellphones per week between male and female students at Midwestern University."
   ]
  },
  {
   "cell_type": "markdown",
   "metadata": {},
   "source": [
    "**Recommendations**\n",
    "\n",
    "- **Sample Size:** The current study had 50 males and 50 females, which is a reasonable start, but if there are small differences in phone usage between genders, they may not be detectable with this sample size. A larger sample size is therefore recommended to increase the chance of detecting a true difference if one exists.\n",
    "\n",
    "\n",
    "- **Other Factors:** The current study only examines gender as a variable. However, phone usage could be influenced by many other factors. The researcher could consider other variables such as age, academic year, major, or socioeconomic background. These factors could provide a better understanding of phone usage patterns. It may also be worth examining if phone usage is tied to specific activities (e.g., social media, academic work, or gaming) to better understand potential differences."
   ]
  },
  {
   "cell_type": "markdown",
   "metadata": {},
   "source": [
    "**3. Provide descriptive statistical summaries of the data for each gender category.**"
   ]
  },
  {
   "cell_type": "code",
   "execution_count": 13,
   "metadata": {},
   "outputs": [
    {
     "data": {
      "text/html": [
       "<div>\n",
       "<style scoped>\n",
       "    .dataframe tbody tr th:only-of-type {\n",
       "        vertical-align: middle;\n",
       "    }\n",
       "\n",
       "    .dataframe tbody tr th {\n",
       "        vertical-align: top;\n",
       "    }\n",
       "\n",
       "    .dataframe thead th {\n",
       "        text-align: right;\n",
       "    }\n",
       "</style>\n",
       "<table border=\"1\" class=\"dataframe\">\n",
       "  <thead>\n",
       "    <tr style=\"text-align: right;\">\n",
       "      <th></th>\n",
       "      <th>Males</th>\n",
       "      <th>Females</th>\n",
       "    </tr>\n",
       "  </thead>\n",
       "  <tbody>\n",
       "    <tr>\n",
       "      <th>count</th>\n",
       "      <td>50.000000</td>\n",
       "      <td>50.000000</td>\n",
       "    </tr>\n",
       "    <tr>\n",
       "      <th>mean</th>\n",
       "      <td>9.820000</td>\n",
       "      <td>9.700000</td>\n",
       "    </tr>\n",
       "    <tr>\n",
       "      <th>std</th>\n",
       "      <td>2.154161</td>\n",
       "      <td>1.775686</td>\n",
       "    </tr>\n",
       "    <tr>\n",
       "      <th>min</th>\n",
       "      <td>4.000000</td>\n",
       "      <td>6.000000</td>\n",
       "    </tr>\n",
       "    <tr>\n",
       "      <th>25%</th>\n",
       "      <td>9.000000</td>\n",
       "      <td>9.000000</td>\n",
       "    </tr>\n",
       "    <tr>\n",
       "      <th>50%</th>\n",
       "      <td>10.000000</td>\n",
       "      <td>9.500000</td>\n",
       "    </tr>\n",
       "    <tr>\n",
       "      <th>75%</th>\n",
       "      <td>11.000000</td>\n",
       "      <td>11.000000</td>\n",
       "    </tr>\n",
       "    <tr>\n",
       "      <th>max</th>\n",
       "      <td>15.000000</td>\n",
       "      <td>14.000000</td>\n",
       "    </tr>\n",
       "  </tbody>\n",
       "</table>\n",
       "</div>"
      ],
      "text/plain": [
       "           Males    Females\n",
       "count  50.000000  50.000000\n",
       "mean    9.820000   9.700000\n",
       "std     2.154161   1.775686\n",
       "min     4.000000   6.000000\n",
       "25%     9.000000   9.000000\n",
       "50%    10.000000   9.500000\n",
       "75%    11.000000  11.000000\n",
       "max    15.000000  14.000000"
      ]
     },
     "execution_count": 13,
     "metadata": {},
     "output_type": "execute_result"
    }
   ],
   "source": [
    "descstats = pd.DataFrame({\n",
    "    'Males': male_times.describe(),\n",
    "    'Females': female_times.describe()\n",
    "})\n",
    "\n",
    "descstats"
   ]
  },
  {
   "cell_type": "markdown",
   "metadata": {},
   "source": [
    "**4. What is the 95% confidence interval for the population mean of each gender category, and what is the 95% confidence interval for the difference between the means of the two populations?**"
   ]
  },
  {
   "cell_type": "code",
   "execution_count": 19,
   "metadata": {},
   "outputs": [
    {
     "name": "stdout",
     "output_type": "stream",
     "text": [
      "95% CI for Males: (9.207794314064703, 10.432205685935298)\n",
      "95% CI for Females: (9.19535558679254, 10.20464441320746)\n",
      "95% CI for Difference in Means: (-0.6634736514965714, 0.9034736514965734)\n"
     ]
    }
   ],
   "source": [
    "import numpy as np\n",
    "\n",
    "def confidence_interval(data, confidence=0.95):\n",
    "    n = len(data)\n",
    "    mean = np.mean(data)\n",
    "    sem = stats.sem(data) \n",
    "    margin_error = sem * stats.t.ppf((1 + confidence) / 2., n-1)\n",
    "    return mean - margin_error, mean + margin_error\n",
    "\n",
    "male_ci = confidence_interval(male_times)\n",
    "female_ci = confidence_interval(female_times)\n",
    "mean_diff = np.mean(male_times) - np.mean(female_times)\n",
    "\n",
    "sem_diff = np.sqrt(stats.sem(male_times)**2 + stats.sem(female_times)**2)\n",
    "marginerr_diff = sem_diff * stats.t.ppf((1 + 0.95) / 2., len(male_times) + len(female_times) - 2)\n",
    "ci_diff = (mean_diff - marginerr_diff, mean_diff + marginerr_diff)\n",
    "\n",
    "print(f\"95% CI for Males: {male_ci}\")\n",
    "print(f\"95% CI for Females: {female_ci}\")\n",
    "print(f\"95% CI for Difference in Means: {ci_diff}\")"
   ]
  },
  {
   "cell_type": "markdown",
   "metadata": {},
   "source": [
    "**5. Do you see a need for larger sample sizes and more testing with the time spent on cell phones? Discuss.**\n",
    "\n",
    "   Yes, a larger sample size is needed since the sample size used (50 males and 50 females) might not be large enough to detect subtle differences in phone usage.  With smaller sample sizes, there is a higher risk of a Type II error (failing to reject the null hypothesis when there actually is a difference). A larger sample size would provide more insights in detecting the difference between two groups.\n",
    "    \n",
    "   The current test focuses only on total hours spent on the phone, but how students are using their phones (e.g., for social media, gaming, studying) might differ significantly between males and females. More testing could break down phone usage by activity type to explore if specific patterns (like more social media use in one gender or more gaming in another) explain some of the differences in total usage. "
   ]
  },
  {
   "cell_type": "markdown",
   "metadata": {},
   "source": [
    "**6. Make a report including the testing of the assumptions for two independent samples t-test.**"
   ]
  },
  {
   "cell_type": "markdown",
   "metadata": {},
   "source": [
    "**I. Introduction.**\n",
    "\n",
    "> This report investigates whether there is a statistically significant difference in the mean time spent on cell phones per week between male and female college students at Midwestern University. A two-independent samples t-test will be performed, and the assumptions underlying this test will be examined.\n",
    "\n",
    "**II. Data Summary.**\n",
    "\n",
    "> The data consists of the number of hours per week spent by 50 male and 50 female students from Midwestern University on their phones.\n",
    "\n",
    "**III. Hypotheses.**\n",
    "\n",
    "> Null Hypothesis ($𝐻_0$): There is no difference in the mean time spent on cell phones between male and female students ($\\mu_1 = \\mu_2$)\n",
    "\n",
    "> Alternative Hypothesis ($𝐻_1$): There is a difference in the mean time spent on cell phones between male and female students ($\\mu_1 \\neq \\mu_2$).\n",
    "\n",
    "- **IV. Testing Assumptions.**\n",
    "Before conducting the t-test, we must verify the following assumptions:\n",
    "\n",
    "    - **Independence of Samples.**\n",
    "The samples from male and female students are independent of each other, as they were randomly selected without any relation or influence between the two groups.   \n",
    "\n",
    "    - **Normality.**\n",
    "To test the normality of the distribution of hours spent on cell phones, we can use the Shapiro-Wilk test. A p-value greater than 0.05 indicates that the data is normally distributed.\n",
    "\n",
    "        ```Male: Test Statistic = 0.9746540784835815, p-value = 0.35399243235588074```\n",
    "        ```Female: Test Statistic = 0.9638767838478088, p-value = 0.12919674813747406```\n",
    "\n",
    "        Both groups showed a p-value greater than 0.05, suggesting that the assumption of normality holds for both male and female students.\n",
    "     \n",
    "    - **Variances.**\n",
    "To assess whether the variances of the two groups are equal, Levene's test was conducted. \n",
    "\n",
    "       ```Test Statistic = 0.6943460393935098, p-value = 0.40671633986363454```\n",
    "\n",
    "       Given that the p-value is higher than 0.05, the assumption of equal variance holds.\n",
    "\n",
    "**V. T-Test Analysis**\n",
    "\n",
    "> Since all assumptions have been satisfied, we proceed with the two-sample t-test.  \n",
    "      \n",
    "```T-statistic: 0.3039, p-value: 0.7618```\n",
    "\n",
    "\n",
    "**VI. Descriptive Statistics**\n",
    "\n",
    "|              | Males | Females |\n",
    "|--------------|-------|---------|\n",
    "|  **count**   |50.000 |50.000   |\n",
    "|  **mean**    |9.820  |9.700    |\n",
    "|  **std**     |2.154  |1.776    |\n",
    "|  **min**     |4.000  |6.000    |\n",
    "|  **25%**     |9.000  |9.000    |\n",
    "|  **50%**     |10.000 |9.500    |\n",
    "|  **75%**     |11.000 |11.000   |\n",
    "|  **max**     |15.000 |14.000   |\n",
    "\n",
    "**VII. Confidence Intervals**\n",
    "\n",
    ">    ```95% CI for Males: (9.207794314064703, 10.432205685935298)```       \n",
    ">    ```95% CI for Females: (9.19535558679254, 10.20464441320746)```      \n",
    ">    ```95% CI for Difference in Means: (-0.6634736514965714, 0.9034736514965734)```\n",
    "\n",
    "**VIII. Conclusion**\n",
    "> The p-value (0.7618) is significantly greater than the significance level of 0.05, therefore, we fail to reject the null hypothesis. This means that based on the t-test, there is no significant difference in the mean time spent on cellphones per week between male and female students at Midwestern University.\n",
    "\n",
    "**VIIII. Recommendation**\n",
    "> **Sample Size:** The current study had 50 males and 50 females, which is a reasonable start, but if there are small differences in phone usage between genders, they may not be detectable with this sample size. With smaller sample sizes, there is a higher risk of a Type II error (failing to reject the null hypothesis when there actually is a difference). A larger sample size is therefore recommended to increase the chance of detecting a true difference if one exists. \n",
    "\n",
    "> **Other Factors:** The current study only examines gender as a variable. However, phone usage could be influenced by many other factors. The researcher could consider other variables such as age, academic year, major, or socioeconomic background. These factors could provide a better understanding of phone usage patterns. In addition, the presence of outliers indicates variability within the data, it may also be worth examining if phone usage is tied to specific activities (e.g., social media, academic work, or gaming) to better understand potential differences."
   ]
  }
 ],
 "metadata": {
  "kernelspec": {
   "display_name": "Python 3 (ipykernel)",
   "language": "python",
   "name": "python3"
  },
  "language_info": {
   "codemirror_mode": {
    "name": "ipython",
    "version": 3
   },
   "file_extension": ".py",
   "mimetype": "text/x-python",
   "name": "python",
   "nbconvert_exporter": "python",
   "pygments_lexer": "ipython3",
   "version": "3.9.13"
  }
 },
 "nbformat": 4,
 "nbformat_minor": 4
}
