{
  "metadata": {
    "kernelspec": {
      "name": "python",
      "display_name": "Python (Pyodide)",
      "language": "python"
    },
    "language_info": {
      "codemirror_mode": {
        "name": "python",
        "version": 3
      },
      "file_extension": ".py",
      "mimetype": "text/x-python",
      "name": "python",
      "nbconvert_exporter": "python",
      "pygments_lexer": "ipython3",
      "version": "3.8"
    }
  },
  "nbformat_minor": 4,
  "nbformat": 4,
  "cells": [
    {
      "cell_type": "code",
      "source": "import pandas as pd\n\ndata = pd.read_csv(\"Invisibility Cloak.csv\")",
      "metadata": {
        "trusted": true
      },
      "outputs": [],
      "execution_count": 8
    },
    {
      "cell_type": "code",
      "source": "data",
      "metadata": {
        "trusted": true
      },
      "outputs": [
        {
          "execution_count": 9,
          "output_type": "execute_result",
          "data": {
            "text/plain": "    Participant  Cloak  Mischief\n0             1      0         3\n1             2      0         1\n2             3      0         5\n3             4      0         4\n4             5      0         6\n5             6      0         4\n6             7      0         6\n7             8      0         2\n8             9      0         0\n9            10      0         5\n10           11      0         4\n11           12      0         5\n12           13      1         4\n13           14      1         3\n14           15      1         6\n15           16      1         6\n16           17      1         8\n17           18      1         5\n18           19      1         5\n19           20      1         4\n20           21      1         2\n21           22      1         5\n22           23      1         7\n23           24      1         5",
            "text/html": "<div>\n<style scoped>\n    .dataframe tbody tr th:only-of-type {\n        vertical-align: middle;\n    }\n\n    .dataframe tbody tr th {\n        vertical-align: top;\n    }\n\n    .dataframe thead th {\n        text-align: right;\n    }\n</style>\n<table border=\"1\" class=\"dataframe\">\n  <thead>\n    <tr style=\"text-align: right;\">\n      <th></th>\n      <th>Participant</th>\n      <th>Cloak</th>\n      <th>Mischief</th>\n    </tr>\n  </thead>\n  <tbody>\n    <tr>\n      <th>0</th>\n      <td>1</td>\n      <td>0</td>\n      <td>3</td>\n    </tr>\n    <tr>\n      <th>1</th>\n      <td>2</td>\n      <td>0</td>\n      <td>1</td>\n    </tr>\n    <tr>\n      <th>2</th>\n      <td>3</td>\n      <td>0</td>\n      <td>5</td>\n    </tr>\n    <tr>\n      <th>3</th>\n      <td>4</td>\n      <td>0</td>\n      <td>4</td>\n    </tr>\n    <tr>\n      <th>4</th>\n      <td>5</td>\n      <td>0</td>\n      <td>6</td>\n    </tr>\n    <tr>\n      <th>5</th>\n      <td>6</td>\n      <td>0</td>\n      <td>4</td>\n    </tr>\n    <tr>\n      <th>6</th>\n      <td>7</td>\n      <td>0</td>\n      <td>6</td>\n    </tr>\n    <tr>\n      <th>7</th>\n      <td>8</td>\n      <td>0</td>\n      <td>2</td>\n    </tr>\n    <tr>\n      <th>8</th>\n      <td>9</td>\n      <td>0</td>\n      <td>0</td>\n    </tr>\n    <tr>\n      <th>9</th>\n      <td>10</td>\n      <td>0</td>\n      <td>5</td>\n    </tr>\n    <tr>\n      <th>10</th>\n      <td>11</td>\n      <td>0</td>\n      <td>4</td>\n    </tr>\n    <tr>\n      <th>11</th>\n      <td>12</td>\n      <td>0</td>\n      <td>5</td>\n    </tr>\n    <tr>\n      <th>12</th>\n      <td>13</td>\n      <td>1</td>\n      <td>4</td>\n    </tr>\n    <tr>\n      <th>13</th>\n      <td>14</td>\n      <td>1</td>\n      <td>3</td>\n    </tr>\n    <tr>\n      <th>14</th>\n      <td>15</td>\n      <td>1</td>\n      <td>6</td>\n    </tr>\n    <tr>\n      <th>15</th>\n      <td>16</td>\n      <td>1</td>\n      <td>6</td>\n    </tr>\n    <tr>\n      <th>16</th>\n      <td>17</td>\n      <td>1</td>\n      <td>8</td>\n    </tr>\n    <tr>\n      <th>17</th>\n      <td>18</td>\n      <td>1</td>\n      <td>5</td>\n    </tr>\n    <tr>\n      <th>18</th>\n      <td>19</td>\n      <td>1</td>\n      <td>5</td>\n    </tr>\n    <tr>\n      <th>19</th>\n      <td>20</td>\n      <td>1</td>\n      <td>4</td>\n    </tr>\n    <tr>\n      <th>20</th>\n      <td>21</td>\n      <td>1</td>\n      <td>2</td>\n    </tr>\n    <tr>\n      <th>21</th>\n      <td>22</td>\n      <td>1</td>\n      <td>5</td>\n    </tr>\n    <tr>\n      <th>22</th>\n      <td>23</td>\n      <td>1</td>\n      <td>7</td>\n    </tr>\n    <tr>\n      <th>23</th>\n      <td>24</td>\n      <td>1</td>\n      <td>5</td>\n    </tr>\n  </tbody>\n</table>\n</div>"
          },
          "metadata": {}
        }
      ],
      "execution_count": 9
    },
    {
      "cell_type": "code",
      "source": "import scipy.stats as stats\nimport matplotlib.pyplot as plt\nimport statistics as st\nimport math\n\ncloak_on = data[data['Cloak'] == 1]['Mischief']\ncloak_off = data[data['Cloak'] == 0]['Mischief']",
      "metadata": {
        "trusted": true
      },
      "outputs": [],
      "execution_count": 27
    },
    {
      "cell_type": "markdown",
      "source": "<h3>Assumption 1</h3>\n<b>Continuous Dependent Variable (Mischief)</b>",
      "metadata": {}
    },
    {
      "cell_type": "markdown",
      "source": "We assume that the dependent variable (Mischief) is continuous. Since mischief is numerical, it meets this assumption",
      "metadata": {}
    },
    {
      "cell_type": "markdown",
      "source": "<h3>Assumption 2</h3>\n<b>Independent Cloak Variable</b>",
      "metadata": {}
    },
    {
      "cell_type": "markdown",
      "source": "The two groups in Cloak should be independent. Since each participant is in only one group, they don't influence one another and so, the assumption is met.",
      "metadata": {}
    },
    {
      "cell_type": "markdown",
      "source": "<h3>Assumption 3</h3>\n<b>Normality Check Using Shapiro-Wilk Test</b>",
      "metadata": {}
    },
    {
      "cell_type": "raw",
      "source": "We use Shapiro-Wilk Test to check if the data follows a normal distribution. For t-tests, we assume the data is normally distributed.",
      "metadata": {}
    },
    {
      "cell_type": "code",
      "source": "shapiro_cloak_on = stats.shapiro(cloak_on)\nshapiro_cloak_off = stats.shapiro(cloak_off)\n\nprint(f\"Shapiro-Wilk Test for Cloak ON: Statistic={shapiro_cloak_on.statistic}, p-value={shapiro_cloak_on.pvalue}\")\nprint(f\"Shapiro-Wilk Test for Cloak OFF: Statistic={shapiro_cloak_off.statistic}, p-value={shapiro_cloak_off.pvalue}\")",
      "metadata": {
        "trusted": true
      },
      "outputs": [
        {
          "name": "stdout",
          "text": "Shapiro-Wilk Test for Cloak ON: Statistic=0.9726166907872743, p-value=0.9361892037703956\nShapiro-Wilk Test for Cloak OFF: Statistic=0.9127634937409539, p-value=0.2314459072953191\n",
          "output_type": "stream"
        }
      ],
      "execution_count": 28
    },
    {
      "cell_type": "markdown",
      "source": "<i> Since the p-value is greater than the alpha of 0.05, the data is normally distributed. </i>",
      "metadata": {}
    },
    {
      "cell_type": "code",
      "source": "plt.hist(cloak_on, alpha=0.5, color='blue', label='Cloak ON')\nplt.hist(cloak_off, alpha=0.5, color='red', label='Cloak OFF')\nplt.legend(loc='upper right')\nplt.xlabel('Mischief Score')\nplt.ylabel('Frequency')\nplt.title('Mischief Score Distribution')\nplt.show()",
      "metadata": {
        "trusted": true
      },
      "outputs": [
        {
          "output_type": "display_data",
          "data": {
            "text/plain": "<Figure size 640x480 with 1 Axes>",
            "image/png": "[encoded data removed]"
          },
          "metadata": {}
        }
      ],
      "execution_count": 29
    },
    {
      "cell_type": "markdown",
      "source": "<h3>Assumption 4</h3>\n<b>Homogeneity of Variances (Levene's Test)</b>",
      "metadata": {}
    },
    {
      "cell_type": "markdown",
      "source": "We use Levene’s Test to check if the variances in the two groups are equal. The independent t-test assumes equal variances (homoscedasticity).",
      "metadata": {}
    },
    {
      "cell_type": "code",
      "source": "levene_test = stats.levene(cloak_on, cloak_off)\nprint(f\"Levene's Test for Equal Variance: Statistic={levene_test.statistic}, p-value={levene_test.pvalue}\")",
      "metadata": {
        "trusted": true
      },
      "outputs": [
        {
          "name": "stdout",
          "text": "Levene's Test for Equal Variance: Statistic=0.2697547683923706, p-value=0.6086825890641905\n",
          "output_type": "stream"
        }
      ],
      "execution_count": 30
    },
    {
      "cell_type": "markdown",
      "source": "<i>Since the p-value > 0.05, we assume that the variances are equal, and we can now use the t-test</i>",
      "metadata": {}
    },
    {
      "cell_type": "markdown",
      "source": "<h3>Assumption 5</h3>\n<b>Independent Samples T-Test</b>",
      "metadata": {}
    },
    {
      "cell_type": "markdown",
      "source": "We use independent Samples T-Test to compare the means of the two independent groups (Cloak ON vs Cloak OFF).",
      "metadata": {}
    },
    {
      "cell_type": "code",
      "source": "t_test = stats.ttest_ind(cloak_on, cloak_off, equal_var=True)\nprint(f\"T-test: Statistic={t_test.statistic}, p-value={t_test.pvalue}\")",
      "metadata": {
        "trusted": true
      },
      "outputs": [
        {
          "name": "stdout",
          "text": "T-test: Statistic=1.713459383965147, p-value=0.10068634487481125\n",
          "output_type": "stream"
        }
      ],
      "execution_count": 26
    },
    {
      "cell_type": "markdown",
      "source": "<i>Since the p-value is greater than 0.05, we conclude that there is no significant difference between the two groups.</i>",
      "metadata": {}
    },
    {
      "cell_type": "markdown",
      "source": "# Report of Independent Samples T-Test: \n\n## Assumptions\n1. **Continuous Dependent Variable**: The dependent variable, Mischief, is continuous.\n2. **Independent Observations**: The two groups, Cloak On and Cloak Off, are independent.\n3. **Normality**:\n    - Cloak On group: p-value = 0.936\n    - Cloak Off group: p-value = 0.231. Normality assumption is met since the both cloak on and cloak off > 0.05 \n4. **Homogeneity of Variances**: Levene’s test p-value = 0.608.  The assumption of equal variances is met since levene test pvalue > 0.05.\n5. **Independent Samples T-Test**:\n    - T-statistic = 1.713\n    - p-value = 0.101\n   Conclusion: The result suggests that there is no significant difference.",
      "metadata": {}
    }
  ]
}