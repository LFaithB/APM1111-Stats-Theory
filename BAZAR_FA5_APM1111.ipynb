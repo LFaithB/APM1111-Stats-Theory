{
 "cells": [
  {
   "cell_type": "markdown",
   "id": "489b18c6",
   "metadata": {},
   "source": [
    "<h2>8.18. \n",
    "List of all samples of size n=2 </h2>"
   ]
  },
  {
   "cell_type": "code",
   "execution_count": 2,
   "id": "d454385e",
   "metadata": {},
   "outputs": [
    {
     "data": {
      "text/html": [
       "<div>\n",
       "<style scoped>\n",
       "    .dataframe tbody tr th:only-of-type {\n",
       "        vertical-align: middle;\n",
       "    }\n",
       "\n",
       "    .dataframe tbody tr th {\n",
       "        vertical-align: top;\n",
       "    }\n",
       "\n",
       "    .dataframe thead th {\n",
       "        text-align: right;\n",
       "    }\n",
       "</style>\n",
       "<table border=\"1\" class=\"dataframe\">\n",
       "  <thead>\n",
       "    <tr style=\"text-align: right;\">\n",
       "      <th></th>\n",
       "      <th>Sample 1</th>\n",
       "      <th>Sample 2</th>\n",
       "    </tr>\n",
       "  </thead>\n",
       "  <tbody>\n",
       "    <tr>\n",
       "      <th>0</th>\n",
       "      <td>9</td>\n",
       "      <td>9</td>\n",
       "    </tr>\n",
       "    <tr>\n",
       "      <th>1</th>\n",
       "      <td>9</td>\n",
       "      <td>12</td>\n",
       "    </tr>\n",
       "    <tr>\n",
       "      <th>2</th>\n",
       "      <td>9</td>\n",
       "      <td>15</td>\n",
       "    </tr>\n",
       "    <tr>\n",
       "      <th>3</th>\n",
       "      <td>12</td>\n",
       "      <td>9</td>\n",
       "    </tr>\n",
       "    <tr>\n",
       "      <th>4</th>\n",
       "      <td>12</td>\n",
       "      <td>12</td>\n",
       "    </tr>\n",
       "    <tr>\n",
       "      <th>5</th>\n",
       "      <td>12</td>\n",
       "      <td>15</td>\n",
       "    </tr>\n",
       "    <tr>\n",
       "      <th>6</th>\n",
       "      <td>15</td>\n",
       "      <td>9</td>\n",
       "    </tr>\n",
       "    <tr>\n",
       "      <th>7</th>\n",
       "      <td>15</td>\n",
       "      <td>12</td>\n",
       "    </tr>\n",
       "    <tr>\n",
       "      <th>8</th>\n",
       "      <td>15</td>\n",
       "      <td>15</td>\n",
       "    </tr>\n",
       "  </tbody>\n",
       "</table>\n",
       "</div>"
      ],
      "text/plain": [
       "   Sample 1  Sample 2\n",
       "0         9         9\n",
       "1         9        12\n",
       "2         9        15\n",
       "3        12         9\n",
       "4        12        12\n",
       "5        12        15\n",
       "6        15         9\n",
       "7        15        12\n",
       "8        15        15"
      ]
     },
     "metadata": {},
     "output_type": "display_data"
    }
   ],
   "source": [
    "import numpy as np\n",
    "import itertools\n",
    "import matplotlib.pyplot as plt\n",
    "import pandas as pd\n",
    "from IPython.display import display\n",
    "\n",
    "population = [9, 12, 15]  \n",
    "\n",
    "samples = list(itertools.product(population, repeat=2))\n",
    "\n",
    "sample = pd.DataFrame(samples, columns=['Sample 1', 'Sample 2'])\n",
    "\n",
    "display(sample)"
   ]
  },
  {
   "cell_type": "markdown",
   "id": "1022b60d",
   "metadata": {},
   "source": [
    "<h2>Occurrences and probabilities of each sample mean (X̄) </h2>"
   ]
  },
  {
   "cell_type": "code",
   "execution_count": 4,
   "id": "2c874364",
   "metadata": {},
   "outputs": [
    {
     "data": {
      "text/html": [
       "<div>\n",
       "<style scoped>\n",
       "    .dataframe tbody tr th:only-of-type {\n",
       "        vertical-align: middle;\n",
       "    }\n",
       "\n",
       "    .dataframe tbody tr th {\n",
       "        vertical-align: top;\n",
       "    }\n",
       "\n",
       "    .dataframe thead th {\n",
       "        text-align: right;\n",
       "    }\n",
       "</style>\n",
       "<table border=\"1\" class=\"dataframe\">\n",
       "  <thead>\n",
       "    <tr style=\"text-align: right;\">\n",
       "      <th></th>\n",
       "      <th>Sample Mean (X̄)</th>\n",
       "      <th>Occurrences</th>\n",
       "      <th>Probability</th>\n",
       "    </tr>\n",
       "  </thead>\n",
       "  <tbody>\n",
       "    <tr>\n",
       "      <th>0</th>\n",
       "      <td>9.0</td>\n",
       "      <td>1</td>\n",
       "      <td>0.111111</td>\n",
       "    </tr>\n",
       "    <tr>\n",
       "      <th>1</th>\n",
       "      <td>10.5</td>\n",
       "      <td>2</td>\n",
       "      <td>0.222222</td>\n",
       "    </tr>\n",
       "    <tr>\n",
       "      <th>2</th>\n",
       "      <td>12.0</td>\n",
       "      <td>3</td>\n",
       "      <td>0.333333</td>\n",
       "    </tr>\n",
       "    <tr>\n",
       "      <th>3</th>\n",
       "      <td>13.5</td>\n",
       "      <td>2</td>\n",
       "      <td>0.222222</td>\n",
       "    </tr>\n",
       "    <tr>\n",
       "      <th>4</th>\n",
       "      <td>15.0</td>\n",
       "      <td>1</td>\n",
       "      <td>0.111111</td>\n",
       "    </tr>\n",
       "  </tbody>\n",
       "</table>\n",
       "</div>"
      ],
      "text/plain": [
       "   Sample Mean (X̄)  Occurrences  Probability\n",
       "0               9.0            1     0.111111\n",
       "1              10.5            2     0.222222\n",
       "2              12.0            3     0.333333\n",
       "3              13.5            2     0.222222\n",
       "4              15.0            1     0.111111"
      ]
     },
     "metadata": {},
     "output_type": "display_data"
    },
    {
     "data": {
      "image/png": "[encoded data removed]",
      "text/plain": [
       "<Figure size 640x480 with 1 Axes>"
      ]
     },
     "metadata": {},
     "output_type": "display_data"
    }
   ],
   "source": [
    "samplemeans = [np.mean(sample) for sample in samples]\n",
    "\n",
    "uniquemeans, counts = np.unique(samplemeans, return_counts=True)\n",
    "\n",
    "probabilities = counts / len(samplemeans)\n",
    "\n",
    "distribution = pd.DataFrame({\n",
    "    'Sample Mean (X̄)': uniquemeans,\n",
    "    'Occurrences': counts,\n",
    "    'Probability': probabilities\n",
    "})\n",
    "\n",
    "display(distribution)\n",
    "\n",
    "\n",
    "plt.bar(uniquemeans, probabilities, color = 'aquamarine',edgecolor='aquamarine', alpha=0.75)\n",
    "plt.title('Distribution of X̄ for n=2')\n",
    "plt.xlabel('Sample Mean')\n",
    "plt.ylabel('Probability')\n",
    "plt.xticks(uniquemeans)\n",
    "plt.grid(True)\n",
    "plt.show()"
   ]
  },
  {
   "cell_type": "markdown",
   "id": "894c792d",
   "metadata": {},
   "source": [
    "<h2>Show that μx̄ = μ and σ²x̄ = σ²/2 </h2>"
   ]
  },
  {
   "cell_type": "code",
   "execution_count": 5,
   "id": "c8603eb7",
   "metadata": {},
   "outputs": [
    {
     "name": "stdout",
     "output_type": "stream",
     "text": [
      "μ: 12.0\n",
      "μofx̄: 12.0\n",
      "σ²ofx̄: 3.0\n",
      "σ²/2: 3.0\n"
     ]
    }
   ],
   "source": [
    "μ = np.mean(population) \n",
    "var = np.var(population) \n",
    "\n",
    "μofx̄ = np.mean(samplemeans)  \n",
    "varofx̄ = np.var(samplemeans) \n",
    "\n",
    "print(f\"μ: {μ}\")\n",
    "print(f\"μofx̄: {μofx̄}\")\n",
    "print(f\"σ²ofx̄: {varofx̄}\")\n",
    "print(f\"σ²/2: {var/2}\")"
   ]
  },
  {
   "cell_type": "markdown",
   "id": "727cc9f9",
   "metadata": {},
   "source": [
    "<h2>8.21. A population consists of the four numbers 3, 7, 11, and 15. Consider all possible samples of size 2 that can be\n",
    "drawn with replacement from this population.</h2>"
   ]
  },
  {
   "cell_type": "code",
   "execution_count": 63,
   "id": "050ad6cd",
   "metadata": {},
   "outputs": [
    {
     "data": {
      "text/html": [
       "<div>\n",
       "<style scoped>\n",
       "    .dataframe tbody tr th:only-of-type {\n",
       "        vertical-align: middle;\n",
       "    }\n",
       "\n",
       "    .dataframe tbody tr th {\n",
       "        vertical-align: top;\n",
       "    }\n",
       "\n",
       "    .dataframe thead th {\n",
       "        text-align: right;\n",
       "    }\n",
       "</style>\n",
       "<table border=\"1\" class=\"dataframe\">\n",
       "  <thead>\n",
       "    <tr style=\"text-align: right;\">\n",
       "      <th></th>\n",
       "      <th>Sample</th>\n",
       "      <th>Mean</th>\n",
       "    </tr>\n",
       "  </thead>\n",
       "  <tbody>\n",
       "    <tr>\n",
       "      <th>0</th>\n",
       "      <td>(3, 3)</td>\n",
       "      <td>3.0</td>\n",
       "    </tr>\n",
       "    <tr>\n",
       "      <th>1</th>\n",
       "      <td>(3, 7)</td>\n",
       "      <td>5.0</td>\n",
       "    </tr>\n",
       "    <tr>\n",
       "      <th>2</th>\n",
       "      <td>(3, 11)</td>\n",
       "      <td>7.0</td>\n",
       "    </tr>\n",
       "    <tr>\n",
       "      <th>3</th>\n",
       "      <td>(3, 15)</td>\n",
       "      <td>9.0</td>\n",
       "    </tr>\n",
       "    <tr>\n",
       "      <th>4</th>\n",
       "      <td>(7, 3)</td>\n",
       "      <td>5.0</td>\n",
       "    </tr>\n",
       "    <tr>\n",
       "      <th>5</th>\n",
       "      <td>(7, 7)</td>\n",
       "      <td>7.0</td>\n",
       "    </tr>\n",
       "    <tr>\n",
       "      <th>6</th>\n",
       "      <td>(7, 11)</td>\n",
       "      <td>9.0</td>\n",
       "    </tr>\n",
       "    <tr>\n",
       "      <th>7</th>\n",
       "      <td>(7, 15)</td>\n",
       "      <td>11.0</td>\n",
       "    </tr>\n",
       "    <tr>\n",
       "      <th>8</th>\n",
       "      <td>(11, 3)</td>\n",
       "      <td>7.0</td>\n",
       "    </tr>\n",
       "    <tr>\n",
       "      <th>9</th>\n",
       "      <td>(11, 7)</td>\n",
       "      <td>9.0</td>\n",
       "    </tr>\n",
       "    <tr>\n",
       "      <th>10</th>\n",
       "      <td>(11, 11)</td>\n",
       "      <td>11.0</td>\n",
       "    </tr>\n",
       "    <tr>\n",
       "      <th>11</th>\n",
       "      <td>(11, 15)</td>\n",
       "      <td>13.0</td>\n",
       "    </tr>\n",
       "    <tr>\n",
       "      <th>12</th>\n",
       "      <td>(15, 3)</td>\n",
       "      <td>9.0</td>\n",
       "    </tr>\n",
       "    <tr>\n",
       "      <th>13</th>\n",
       "      <td>(15, 7)</td>\n",
       "      <td>11.0</td>\n",
       "    </tr>\n",
       "    <tr>\n",
       "      <th>14</th>\n",
       "      <td>(15, 11)</td>\n",
       "      <td>13.0</td>\n",
       "    </tr>\n",
       "    <tr>\n",
       "      <th>15</th>\n",
       "      <td>(15, 15)</td>\n",
       "      <td>15.0</td>\n",
       "    </tr>\n",
       "  </tbody>\n",
       "</table>\n",
       "</div>"
      ],
      "text/plain": [
       "      Sample  Mean\n",
       "0     (3, 3)   3.0\n",
       "1     (3, 7)   5.0\n",
       "2    (3, 11)   7.0\n",
       "3    (3, 15)   9.0\n",
       "4     (7, 3)   5.0\n",
       "5     (7, 7)   7.0\n",
       "6    (7, 11)   9.0\n",
       "7    (7, 15)  11.0\n",
       "8    (11, 3)   7.0\n",
       "9    (11, 7)   9.0\n",
       "10  (11, 11)  11.0\n",
       "11  (11, 15)  13.0\n",
       "12   (15, 3)   9.0\n",
       "13   (15, 7)  11.0\n",
       "14  (15, 11)  13.0\n",
       "15  (15, 15)  15.0"
      ]
     },
     "metadata": {},
     "output_type": "display_data"
    }
   ],
   "source": [
    "import numpy as np\n",
    "from itertools import product\n",
    "\n",
    "population = [3, 7, 11, 15]\n",
    "\n",
    "samples = list(product(population, repeat=2))\n",
    "\n",
    "samplemeans = []\n",
    "for sample in samples:\n",
    "    samplemean = sum(sample) / len(sample) \n",
    "    samplemeans.append(samplemean)\n",
    "\n",
    "samplesdf = pd.DataFrame({'Sample': samples, 'Mean': samplemeans})\n",
    "display(samplesdf)"
   ]
  },
  {
   "cell_type": "markdown",
   "id": "bde0a5f4",
   "metadata": {},
   "source": [
    "*(a) population mean*"
   ]
  },
  {
   "cell_type": "code",
   "execution_count": 8,
   "id": "5c4f593d",
   "metadata": {},
   "outputs": [
    {
     "name": "stdout",
     "output_type": "stream",
     "text": [
      "Population Mean: 9.0\n"
     ]
    }
   ],
   "source": [
    "populationmean = sum(population) / len(population)\n",
    "print(\"Population Mean:\", populationmean)"
   ]
  },
  {
   "cell_type": "markdown",
   "id": "59b845a2",
   "metadata": {},
   "source": [
    "*(b) population standard deviation*"
   ]
  },
  {
   "cell_type": "code",
   "execution_count": 56,
   "id": "32da1816",
   "metadata": {},
   "outputs": [
    {
     "name": "stdout",
     "output_type": "stream",
     "text": [
      "Population standard deviation: 5.3852\n"
     ]
    }
   ],
   "source": [
    "squarediffs = [(x - populationmean) ** 2 for x in population]\n",
    "populationvariance = sum(squarediffs) / len(population)\n",
    "\n",
    "populationstd = populationvariance ** 0.5\n",
    "print(\"Population standard deviation:\", round(populationstd, 4))"
   ]
  },
  {
   "cell_type": "markdown",
   "id": "9af2c9a0",
   "metadata": {},
   "source": [
    "*(c) Mean of the Sampling Distribution of Means*"
   ]
  },
  {
   "cell_type": "code",
   "execution_count": 62,
   "id": "47c7edf6",
   "metadata": {},
   "outputs": [
    {
     "name": "stdout",
     "output_type": "stream",
     "text": [
      "Mean of the Sampling Distribution of Means: 12.0\n"
     ]
    }
   ],
   "source": [
    "samplingdistributionmean = sum(samplemeans) / len(samplemeans)\n",
    "\n",
    "print(\"Mean of the Sampling Distribution of Means:\", samplingdistributionmean)"
   ]
  },
  {
   "cell_type": "markdown",
   "id": "045ec2f3",
   "metadata": {},
   "source": [
    "*(d) Standard deviation of the sampling\n",
    "distribution of means.*"
   ]
  },
  {
   "cell_type": "code",
   "execution_count": 60,
   "id": "525331e8",
   "metadata": {},
   "outputs": [
    {
     "name": "stdout",
     "output_type": "stream",
     "text": [
      "Standard Deviation of the Sampling Distribution of Means: 0.0\n"
     ]
    }
   ],
   "source": [
    "samplingdistributionstd = np.std(populationmean, ddof=0)\n",
    "\n",
    "print(\"Standard Deviation of the Sampling Distribution of Means:\", samplingdistributionstd)"
   ]
  },
  {
   "cell_type": "markdown",
   "id": "298abb5a",
   "metadata": {},
   "source": [
    "*Verify parts (c) and (d ) directly from (a) and (b)*"
   ]
  },
  {
   "cell_type": "code",
   "execution_count": 15,
   "id": "4185cc44",
   "metadata": {},
   "outputs": [
    {
     "name": "stdout",
     "output_type": "stream",
     "text": [
      "The means match!\n",
      "The standard deviations match!\n"
     ]
    }
   ],
   "source": [
    "n = 2  \n",
    "theoreticalsamplingdistributionmean = populationmean\n",
    "theoreticalsamplingdistributionstd = populationstd / (n ** 0.5)\n",
    "\n",
    "\n",
    "if round(samplingdistributionmean, 5) == round(theoreticalsamplingdistributionmean, 5):\n",
    "    print(\"The means match!\")\n",
    "else:\n",
    "    print(\"The means do not match.\")\n",
    "\n",
    "if round(samplingdistributionstd, 5) == round(theoreticalsamplingdistributionstd, 5):\n",
    "    print(\"The standard deviations match!\")\n",
    "else:\n",
    "    print(\"The standard deviations do not match.\") "
   ]
  },
  {
   "cell_type": "markdown",
   "id": "8fc618b5",
   "metadata": {},
   "source": [
    "<h2>8.34 Find the probability that of the next 200 children born. Assume equal probabilities for the births of boys and\n",
    "girls.</h2>"
   ]
  },
  {
   "cell_type": "code",
   "execution_count": 34,
   "id": "b39f14a8",
   "metadata": {},
   "outputs": [],
   "source": [
    "import scipy.stats as stats\n",
    "from scipy.stats import binom\n",
    "\n",
    "n = 200\n",
    "p = 0.5"
   ]
  },
  {
   "cell_type": "markdown",
   "id": "70ab7bf5",
   "metadata": {},
   "source": [
    "*(a) less than 40% will be boys*"
   ]
  },
  {
   "cell_type": "code",
   "execution_count": 49,
   "id": "d6bc6afb",
   "metadata": {},
   "outputs": [
    {
     "data": {
      "text/plain": [
       "'0.18%'"
      ]
     },
     "execution_count": 49,
     "metadata": {},
     "output_type": "execute_result"
    }
   ],
   "source": [
    "a = int(0.4 * n)\n",
    "probLessThan40PercentBoys = stats.binom.cdf(a - 1, n, p)\n",
    "\n",
    "probLessThan40PercentBoys = f\"{round(probLessThan40PercentBoys * 100, 2)}%\"\n",
    "probLessThan40PercentBoys"
   ]
  },
  {
   "cell_type": "markdown",
   "id": "88fe79e1",
   "metadata": {},
   "source": [
    "*(b) between 43% and 57% will be girls*"
   ]
  },
  {
   "cell_type": "code",
   "execution_count": 48,
   "id": "3e48b239",
   "metadata": {},
   "outputs": [
    {
     "data": {
      "text/plain": [
       "'95.2%'"
      ]
     },
     "execution_count": 48,
     "metadata": {},
     "output_type": "execute_result"
    }
   ],
   "source": [
    "b1 = int(0.43 * n)\n",
    "b2 = int(0.57 * n)\n",
    "probBetween43And57PercentGirls = stats.binom.cdf(b2, n, p) - stats.binom.cdf(b1 - 1, n, p)\n",
    "\n",
    "probBetween43And57PercentGirls = f\"{round(probBetween43And57PercentGirls * 100, 2)}%\"\n",
    "probBetween43And57PercentGirls"
   ]
  },
  {
   "cell_type": "markdown",
   "id": "7e79a5f3",
   "metadata": {},
   "source": [
    "*(c) more than 54% will be boys*"
   ]
  },
  {
   "cell_type": "code",
   "execution_count": 46,
   "id": "e03b79d5",
   "metadata": {},
   "outputs": [
    {
     "data": {
      "text/plain": [
       "'11.46%'"
      ]
     },
     "execution_count": 46,
     "metadata": {},
     "output_type": "execute_result"
    }
   ],
   "source": [
    "c = int(0.54 * n)\n",
    "probMoreThan54PercentBoys = 1 - stats.binom.cdf(c, n, p)\n",
    "\n",
    "probMoreThan54PercentBoysPercent = f\"{round(probMoreThan54PercentBoys * 100, 2)}%\"\n",
    "probMoreThan54PercentBoysPercent"
   ]
  },
  {
   "cell_type": "markdown",
   "id": "5c942a13",
   "metadata": {},
   "source": [
    "<h2>8.49. The credit hour distribution at Metropolitan Technological College is as follows:</h2>"
   ]
  },
  {
   "cell_type": "code",
   "execution_count": 21,
   "id": "a8644e08",
   "metadata": {},
   "outputs": [
    {
     "data": {
      "text/html": [
       "<div>\n",
       "<style scoped>\n",
       "    .dataframe tbody tr th:only-of-type {\n",
       "        vertical-align: middle;\n",
       "    }\n",
       "\n",
       "    .dataframe tbody tr th {\n",
       "        vertical-align: top;\n",
       "    }\n",
       "\n",
       "    .dataframe thead th {\n",
       "        text-align: right;\n",
       "    }\n",
       "</style>\n",
       "<table border=\"1\" class=\"dataframe\">\n",
       "  <thead>\n",
       "    <tr style=\"text-align: right;\">\n",
       "      <th></th>\n",
       "      <th>0</th>\n",
       "      <th>1</th>\n",
       "      <th>2</th>\n",
       "      <th>3</th>\n",
       "      <th>4</th>\n",
       "    </tr>\n",
       "  </thead>\n",
       "  <tbody>\n",
       "    <tr>\n",
       "      <th>x</th>\n",
       "      <td>6.0</td>\n",
       "      <td>9.0</td>\n",
       "      <td>12.0</td>\n",
       "      <td>15.0</td>\n",
       "      <td>18.0</td>\n",
       "    </tr>\n",
       "    <tr>\n",
       "      <th>px</th>\n",
       "      <td>0.1</td>\n",
       "      <td>0.2</td>\n",
       "      <td>0.4</td>\n",
       "      <td>0.2</td>\n",
       "      <td>0.1</td>\n",
       "    </tr>\n",
       "  </tbody>\n",
       "</table>\n",
       "</div>"
      ],
      "text/plain": [
       "      0    1     2     3     4\n",
       "x   6.0  9.0  12.0  15.0  18.0\n",
       "px  0.1  0.2   0.4   0.2   0.1"
      ]
     },
     "execution_count": 21,
     "metadata": {},
     "output_type": "execute_result"
    }
   ],
   "source": [
    "import numpy as np\n",
    "import pandas as pd\n",
    "\n",
    "x = np.array([6, 9, 12, 15, 18])\n",
    "px = np.array([0.1, 0.2, 0.4, 0.2, 0.1])\n",
    "\n",
    "data = pd.DataFrame({\n",
    "    'x': x,\n",
    "    'px': px\n",
    "})\n",
    "\n",
    "table = data.T\n",
    "\n",
    "table"
   ]
  },
  {
   "cell_type": "markdown",
   "id": "d55b3ac1",
   "metadata": {},
   "source": [
    "*Find μ and σ² . Give the 25 (with replacement) possible samples of size 2, their means, and their\n",
    "probabilities.*"
   ]
  },
  {
   "cell_type": "code",
   "execution_count": 30,
   "id": "6bb42325",
   "metadata": {},
   "outputs": [
    {
     "name": "stdout",
     "output_type": "stream",
     "text": [
      "Population Mean (μ): 12.0\n",
      "Population Variance (σ²): 10.8\n"
     ]
    },
    {
     "data": {
      "text/html": [
       "<div>\n",
       "<style scoped>\n",
       "    .dataframe tbody tr th:only-of-type {\n",
       "        vertical-align: middle;\n",
       "    }\n",
       "\n",
       "    .dataframe tbody tr th {\n",
       "        vertical-align: top;\n",
       "    }\n",
       "\n",
       "    .dataframe thead th {\n",
       "        text-align: right;\n",
       "    }\n",
       "</style>\n",
       "<table border=\"1\" class=\"dataframe\">\n",
       "  <thead>\n",
       "    <tr style=\"text-align: right;\">\n",
       "      <th></th>\n",
       "      <th>sample</th>\n",
       "      <th>mean</th>\n",
       "      <th>probability</th>\n",
       "    </tr>\n",
       "  </thead>\n",
       "  <tbody>\n",
       "    <tr>\n",
       "      <th>0</th>\n",
       "      <td>(6, 6)</td>\n",
       "      <td>6.0</td>\n",
       "      <td>0.01</td>\n",
       "    </tr>\n",
       "    <tr>\n",
       "      <th>1</th>\n",
       "      <td>(6, 9)</td>\n",
       "      <td>7.5</td>\n",
       "      <td>0.02</td>\n",
       "    </tr>\n",
       "    <tr>\n",
       "      <th>2</th>\n",
       "      <td>(6, 12)</td>\n",
       "      <td>9.0</td>\n",
       "      <td>0.04</td>\n",
       "    </tr>\n",
       "    <tr>\n",
       "      <th>3</th>\n",
       "      <td>(6, 15)</td>\n",
       "      <td>10.5</td>\n",
       "      <td>0.02</td>\n",
       "    </tr>\n",
       "    <tr>\n",
       "      <th>4</th>\n",
       "      <td>(6, 18)</td>\n",
       "      <td>12.0</td>\n",
       "      <td>0.01</td>\n",
       "    </tr>\n",
       "    <tr>\n",
       "      <th>5</th>\n",
       "      <td>(9, 6)</td>\n",
       "      <td>7.5</td>\n",
       "      <td>0.02</td>\n",
       "    </tr>\n",
       "    <tr>\n",
       "      <th>6</th>\n",
       "      <td>(9, 9)</td>\n",
       "      <td>9.0</td>\n",
       "      <td>0.04</td>\n",
       "    </tr>\n",
       "    <tr>\n",
       "      <th>7</th>\n",
       "      <td>(9, 12)</td>\n",
       "      <td>10.5</td>\n",
       "      <td>0.08</td>\n",
       "    </tr>\n",
       "    <tr>\n",
       "      <th>8</th>\n",
       "      <td>(9, 15)</td>\n",
       "      <td>12.0</td>\n",
       "      <td>0.04</td>\n",
       "    </tr>\n",
       "    <tr>\n",
       "      <th>9</th>\n",
       "      <td>(9, 18)</td>\n",
       "      <td>13.5</td>\n",
       "      <td>0.02</td>\n",
       "    </tr>\n",
       "    <tr>\n",
       "      <th>10</th>\n",
       "      <td>(12, 6)</td>\n",
       "      <td>9.0</td>\n",
       "      <td>0.04</td>\n",
       "    </tr>\n",
       "    <tr>\n",
       "      <th>11</th>\n",
       "      <td>(12, 9)</td>\n",
       "      <td>10.5</td>\n",
       "      <td>0.08</td>\n",
       "    </tr>\n",
       "    <tr>\n",
       "      <th>12</th>\n",
       "      <td>(12, 12)</td>\n",
       "      <td>12.0</td>\n",
       "      <td>0.16</td>\n",
       "    </tr>\n",
       "    <tr>\n",
       "      <th>13</th>\n",
       "      <td>(12, 15)</td>\n",
       "      <td>13.5</td>\n",
       "      <td>0.08</td>\n",
       "    </tr>\n",
       "    <tr>\n",
       "      <th>14</th>\n",
       "      <td>(12, 18)</td>\n",
       "      <td>15.0</td>\n",
       "      <td>0.04</td>\n",
       "    </tr>\n",
       "    <tr>\n",
       "      <th>15</th>\n",
       "      <td>(15, 6)</td>\n",
       "      <td>10.5</td>\n",
       "      <td>0.02</td>\n",
       "    </tr>\n",
       "    <tr>\n",
       "      <th>16</th>\n",
       "      <td>(15, 9)</td>\n",
       "      <td>12.0</td>\n",
       "      <td>0.04</td>\n",
       "    </tr>\n",
       "    <tr>\n",
       "      <th>17</th>\n",
       "      <td>(15, 12)</td>\n",
       "      <td>13.5</td>\n",
       "      <td>0.08</td>\n",
       "    </tr>\n",
       "    <tr>\n",
       "      <th>18</th>\n",
       "      <td>(15, 15)</td>\n",
       "      <td>15.0</td>\n",
       "      <td>0.04</td>\n",
       "    </tr>\n",
       "    <tr>\n",
       "      <th>19</th>\n",
       "      <td>(15, 18)</td>\n",
       "      <td>16.5</td>\n",
       "      <td>0.02</td>\n",
       "    </tr>\n",
       "    <tr>\n",
       "      <th>20</th>\n",
       "      <td>(18, 6)</td>\n",
       "      <td>12.0</td>\n",
       "      <td>0.01</td>\n",
       "    </tr>\n",
       "    <tr>\n",
       "      <th>21</th>\n",
       "      <td>(18, 9)</td>\n",
       "      <td>13.5</td>\n",
       "      <td>0.02</td>\n",
       "    </tr>\n",
       "    <tr>\n",
       "      <th>22</th>\n",
       "      <td>(18, 12)</td>\n",
       "      <td>15.0</td>\n",
       "      <td>0.04</td>\n",
       "    </tr>\n",
       "    <tr>\n",
       "      <th>23</th>\n",
       "      <td>(18, 15)</td>\n",
       "      <td>16.5</td>\n",
       "      <td>0.02</td>\n",
       "    </tr>\n",
       "    <tr>\n",
       "      <th>24</th>\n",
       "      <td>(18, 18)</td>\n",
       "      <td>18.0</td>\n",
       "      <td>0.01</td>\n",
       "    </tr>\n",
       "  </tbody>\n",
       "</table>\n",
       "</div>"
      ],
      "text/plain": [
       "      sample  mean  probability\n",
       "0     (6, 6)   6.0         0.01\n",
       "1     (6, 9)   7.5         0.02\n",
       "2    (6, 12)   9.0         0.04\n",
       "3    (6, 15)  10.5         0.02\n",
       "4    (6, 18)  12.0         0.01\n",
       "5     (9, 6)   7.5         0.02\n",
       "6     (9, 9)   9.0         0.04\n",
       "7    (9, 12)  10.5         0.08\n",
       "8    (9, 15)  12.0         0.04\n",
       "9    (9, 18)  13.5         0.02\n",
       "10   (12, 6)   9.0         0.04\n",
       "11   (12, 9)  10.5         0.08\n",
       "12  (12, 12)  12.0         0.16\n",
       "13  (12, 15)  13.5         0.08\n",
       "14  (12, 18)  15.0         0.04\n",
       "15   (15, 6)  10.5         0.02\n",
       "16   (15, 9)  12.0         0.04\n",
       "17  (15, 12)  13.5         0.08\n",
       "18  (15, 15)  15.0         0.04\n",
       "19  (15, 18)  16.5         0.02\n",
       "20   (18, 6)  12.0         0.01\n",
       "21   (18, 9)  13.5         0.02\n",
       "22  (18, 12)  15.0         0.04\n",
       "23  (18, 15)  16.5         0.02\n",
       "24  (18, 18)  18.0         0.01"
      ]
     },
     "execution_count": 30,
     "metadata": {},
     "output_type": "execute_result"
    }
   ],
   "source": [
    "populationmean = np.sum(x * px)\n",
    "populationvariance = np.sum((x - populationmean)**2 * px)\n",
    "samples = list(itertools.product(x, repeat=2))\n",
    "samplemeans = [(x1 + x2) / 2 for x1, x2 in samples]\n",
    "sampleprobs = [px[np.where(x == x1)[0][0]] * px[np.where(x == x2)[0][0]] for x1, x2 in samples]\n",
    "\n",
    "df = pd.DataFrame(samples, columns=['x1', 'x2'])\n",
    "\n",
    "df['sample'] = list(zip(df['x1'], df['x2']))\n",
    "df['mean'] = samplemeans\n",
    "df['probability'] = sampleprobs\n",
    "\n",
    "df = df[['sample', 'mean', 'probability']]\n",
    "\n",
    "print(f\"Population Mean (μ): {populationmean:.1f}\")\n",
    "print(f\"Population Variance (σ²): {populationvariance}\")\n",
    "df\n"
   ]
  }
 ],
 "metadata": {
  "kernelspec": {
   "display_name": "Python 3 (ipykernel)",
   "language": "python",
   "name": "python3"
  },
  "language_info": {
   "codemirror_mode": {
    "name": "ipython",
    "version": 3
   },
   "file_extension": ".py",
   "mimetype": "text/x-python",
   "name": "python",
   "nbconvert_exporter": "python",
   "pygments_lexer": "ipython3",
   "version": "3.9.13"
  }
 },
 "nbformat": 4,
 "nbformat_minor": 5
}
