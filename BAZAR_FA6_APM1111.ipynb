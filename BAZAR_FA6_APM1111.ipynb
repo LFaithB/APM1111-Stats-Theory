{
 "cells": [
  {
   "cell_type": "markdown",
   "id": "2316b9a9",
   "metadata": {},
   "source": [
    "<strong>1. Find the quartiles of distribution</strong>"
   ]
  },
  {
   "cell_type": "code",
   "execution_count": 46,
   "id": "0769ec87",
   "metadata": {},
   "outputs": [
    {
     "name": "stdout",
     "output_type": "stream",
     "text": [
      "First Quartile: 67.0\n",
      "Second Quartile (Median): 75.0\n",
      "Third Quartile: 83.0\n"
     ]
    }
   ],
   "source": [
    "import numpy as np\n",
    "\n",
    "grades = [\n",
    "    (90, 100, 9),\n",
    "    (80, 89, 32),\n",
    "    (70, 79, 43),\n",
    "    (60, 69, 21),\n",
    "    (50, 59, 11),\n",
    "    (40, 49, 3),\n",
    "    (30, 39, 1),\n",
    "]\n",
    "\n",
    "all_grades = []\n",
    "\n",
    "for lower, upper, frequency in grades:\n",
    "    all_grades.extend(list(range(lower, upper + 1)) * frequency)\n",
    "\n",
    "Q1 = np.percentile(all_grades, 25)\n",
    "Q2 = np.percentile(all_grades, 50)\n",
    "Q3 = np.percentile(all_grades, 75)\n",
    "\n",
    "print(f\"First Quartile: {Q1}\")\n",
    "print(f\"Second Quartile (Median): {Q2}\")\n",
    "print(f\"Third Quartile: {Q3}\")"
   ]
  },
  {
   "cell_type": "markdown",
   "id": "06f55abf",
   "metadata": {},
   "source": [
    "<strong>2.(a) absolute dispersion</strong>"
   ]
  },
  {
   "cell_type": "code",
   "execution_count": 12,
   "id": "13b82247",
   "metadata": {},
   "outputs": [
    {
     "name": "stdout",
     "output_type": "stream",
     "text": [
      "Absolute Dispersion: Statistics = 8.0, Algebra = 7.6\n"
     ]
    }
   ],
   "source": [
    "mean_stats = 78\n",
    "std_dev_stats = 8.0\n",
    "\n",
    "mean_algebra = 73\n",
    "std_dev_algebra = 7.6\n",
    "\n",
    "absolute_dispersion_stats = std_dev_stats\n",
    "absolute_dispersion_algebra = std_dev_algebra\n",
    "\n",
    "relative_dispersion_stats = (std_dev_stats / mean_stats) * 100\n",
    "relative_dispersion_algebra = (std_dev_algebra / mean_algebra) * 100\n",
    "\n",
    "print(f\"Absolute Dispersion: Statistics = {absolute_dispersion_stats}, Algebra = {absolute_dispersion_algebra}\")"
   ]
  },
  {
   "cell_type": "markdown",
   "id": "28b3fab2",
   "metadata": {},
   "source": [
    "<strong>2.(b) relative dispersion</strong>"
   ]
  },
  {
   "cell_type": "code",
   "execution_count": 13,
   "id": "f0ce8a43",
   "metadata": {},
   "outputs": [
    {
     "name": "stdout",
     "output_type": "stream",
     "text": [
      "Relative Dispersion: Statistics = 10.26%, Algebra = 10.41%\n"
     ]
    }
   ],
   "source": [
    "print(f\"Relative Dispersion: Statistics = {relative_dispersion_stats:.2f}%, Algebra = {relative_dispersion_algebra:.2f}%\")"
   ]
  },
  {
   "cell_type": "markdown",
   "id": "06ed6434",
   "metadata": {},
   "source": [
    "<strong>3. Prove that the mean and standard deviation of a set of standard scores are equal to 0 and 1, respectively. </strong>"
   ]
  },
  {
   "cell_type": "code",
   "execution_count": 50,
   "id": "f7e557ad",
   "metadata": {},
   "outputs": [
    {
     "name": "stdout",
     "output_type": "stream",
     "text": [
      "Mean: 5.6\n",
      "Standard Deviation: 2.3021728866442674\n",
      "Z-scores: [0.17374889710522792, -1.5637400739470497, 1.0424933826313667, 0.6081211398682973, -0.2606233456578415]\n",
      "Mean of Z-scores: 0.0\n",
      "Standard Deviation of Z-scores: 1.0\n"
     ]
    }
   ],
   "source": [
    "import statistics\n",
    "\n",
    "scores = [6, 2, 8, 7, 5]\n",
    "\n",
    "mean = statistics.mean(scores)\n",
    "stddev = statistics.stdev(scores)\n",
    "\n",
    "zscore = [(s - mean) / std_dev for s in scores]\n",
    "\n",
    "meanz = statistics.mean(zscore)\n",
    "stddevz = statistics.stdev(zscore)\n",
    "\n",
    "meanzrounded = round(meanz, 10) \n",
    "stddevzrounded = round(stddevz, 10)\n",
    "\n",
    "print(\"Mean:\", mean)\n",
    "print(\"Standard Deviation:\", stddev)\n",
    "print(\"Z-scores:\", zscore)\n",
    "print(\"Mean of Z-scores:\", meanzrounded)\n",
    "print(\"Standard Deviation of Z-scores:\", stddevzrounded)"
   ]
  },
  {
   "cell_type": "markdown",
   "id": "5ac85c30",
   "metadata": {},
   "source": [
    "<strong> 4. Find the (a) mean and (b) standard\n",
    "deviation of the sum of the masses.</strong>"
   ]
  },
  {
   "cell_type": "code",
   "execution_count": 67,
   "id": "d803a44b",
   "metadata": {},
   "outputs": [
    {
     "name": "stdout",
     "output_type": "stream",
     "text": [
      "Mean of the masses: 39.60\n",
      "Standard Deviation of the sum of the masses: 0.74 g\n"
     ]
    }
   ],
   "source": [
    "masses = [20.48, 35.97, 62.34]\n",
    "std = [0.21, 0.46, 0.54]\n",
    "\n",
    "mean = statistics.mean(masses)\n",
    "totalstd = math.sqrt(sum(s ** 2 for s in std))\n",
    "\n",
    "print(f\"Mean of the masses: {mean:.2f}\")\n",
    "print(f\"Standard Deviation of the sum of the masses: {totalstd:.2f} g\")"
   ]
  },
  {
   "cell_type": "markdown",
   "id": "c2aa1b0a",
   "metadata": {},
   "source": [
    "<strong> 5. Find 𝜇 and 𝜎2 . Give the 25 (with replacement) possible samples of size 2, their means,and their probabilities. </strong>"
   ]
  },
  {
   "cell_type": "code",
   "execution_count": 61,
   "id": "cb031878",
   "metadata": {},
   "outputs": [
    {
     "name": "stdout",
     "output_type": "stream",
     "text": [
      "Mean (μ): 12.0\n",
      "Variance (σ²): 10.8\n"
     ]
    },
    {
     "data": {
      "text/html": [
       "<div>\n",
       "<style scoped>\n",
       "    .dataframe tbody tr th:only-of-type {\n",
       "        vertical-align: middle;\n",
       "    }\n",
       "\n",
       "    .dataframe tbody tr th {\n",
       "        vertical-align: top;\n",
       "    }\n",
       "\n",
       "    .dataframe thead th {\n",
       "        text-align: right;\n",
       "    }\n",
       "</style>\n",
       "<table border=\"1\" class=\"dataframe\">\n",
       "  <thead>\n",
       "    <tr style=\"text-align: right;\">\n",
       "      <th></th>\n",
       "      <th>Sample</th>\n",
       "      <th>Mean</th>\n",
       "      <th>Probability</th>\n",
       "    </tr>\n",
       "  </thead>\n",
       "  <tbody>\n",
       "    <tr>\n",
       "      <th>0</th>\n",
       "      <td>(6, 6)</td>\n",
       "      <td>6.0</td>\n",
       "      <td>0.01</td>\n",
       "    </tr>\n",
       "    <tr>\n",
       "      <th>1</th>\n",
       "      <td>(6, 9)</td>\n",
       "      <td>7.5</td>\n",
       "      <td>0.02</td>\n",
       "    </tr>\n",
       "    <tr>\n",
       "      <th>2</th>\n",
       "      <td>(6, 12)</td>\n",
       "      <td>9.0</td>\n",
       "      <td>0.04</td>\n",
       "    </tr>\n",
       "    <tr>\n",
       "      <th>3</th>\n",
       "      <td>(6, 15)</td>\n",
       "      <td>10.5</td>\n",
       "      <td>0.02</td>\n",
       "    </tr>\n",
       "    <tr>\n",
       "      <th>4</th>\n",
       "      <td>(6, 18)</td>\n",
       "      <td>12.0</td>\n",
       "      <td>0.01</td>\n",
       "    </tr>\n",
       "    <tr>\n",
       "      <th>5</th>\n",
       "      <td>(9, 6)</td>\n",
       "      <td>7.5</td>\n",
       "      <td>0.02</td>\n",
       "    </tr>\n",
       "    <tr>\n",
       "      <th>6</th>\n",
       "      <td>(9, 9)</td>\n",
       "      <td>9.0</td>\n",
       "      <td>0.04</td>\n",
       "    </tr>\n",
       "    <tr>\n",
       "      <th>7</th>\n",
       "      <td>(9, 12)</td>\n",
       "      <td>10.5</td>\n",
       "      <td>0.08</td>\n",
       "    </tr>\n",
       "    <tr>\n",
       "      <th>8</th>\n",
       "      <td>(9, 15)</td>\n",
       "      <td>12.0</td>\n",
       "      <td>0.04</td>\n",
       "    </tr>\n",
       "    <tr>\n",
       "      <th>9</th>\n",
       "      <td>(9, 18)</td>\n",
       "      <td>13.5</td>\n",
       "      <td>0.02</td>\n",
       "    </tr>\n",
       "    <tr>\n",
       "      <th>10</th>\n",
       "      <td>(12, 6)</td>\n",
       "      <td>9.0</td>\n",
       "      <td>0.04</td>\n",
       "    </tr>\n",
       "    <tr>\n",
       "      <th>11</th>\n",
       "      <td>(12, 9)</td>\n",
       "      <td>10.5</td>\n",
       "      <td>0.08</td>\n",
       "    </tr>\n",
       "    <tr>\n",
       "      <th>12</th>\n",
       "      <td>(12, 12)</td>\n",
       "      <td>12.0</td>\n",
       "      <td>0.16</td>\n",
       "    </tr>\n",
       "    <tr>\n",
       "      <th>13</th>\n",
       "      <td>(12, 15)</td>\n",
       "      <td>13.5</td>\n",
       "      <td>0.08</td>\n",
       "    </tr>\n",
       "    <tr>\n",
       "      <th>14</th>\n",
       "      <td>(12, 18)</td>\n",
       "      <td>15.0</td>\n",
       "      <td>0.04</td>\n",
       "    </tr>\n",
       "    <tr>\n",
       "      <th>15</th>\n",
       "      <td>(15, 6)</td>\n",
       "      <td>10.5</td>\n",
       "      <td>0.02</td>\n",
       "    </tr>\n",
       "    <tr>\n",
       "      <th>16</th>\n",
       "      <td>(15, 9)</td>\n",
       "      <td>12.0</td>\n",
       "      <td>0.04</td>\n",
       "    </tr>\n",
       "    <tr>\n",
       "      <th>17</th>\n",
       "      <td>(15, 12)</td>\n",
       "      <td>13.5</td>\n",
       "      <td>0.08</td>\n",
       "    </tr>\n",
       "    <tr>\n",
       "      <th>18</th>\n",
       "      <td>(15, 15)</td>\n",
       "      <td>15.0</td>\n",
       "      <td>0.04</td>\n",
       "    </tr>\n",
       "    <tr>\n",
       "      <th>19</th>\n",
       "      <td>(15, 18)</td>\n",
       "      <td>16.5</td>\n",
       "      <td>0.02</td>\n",
       "    </tr>\n",
       "    <tr>\n",
       "      <th>20</th>\n",
       "      <td>(18, 6)</td>\n",
       "      <td>12.0</td>\n",
       "      <td>0.01</td>\n",
       "    </tr>\n",
       "    <tr>\n",
       "      <th>21</th>\n",
       "      <td>(18, 9)</td>\n",
       "      <td>13.5</td>\n",
       "      <td>0.02</td>\n",
       "    </tr>\n",
       "    <tr>\n",
       "      <th>22</th>\n",
       "      <td>(18, 12)</td>\n",
       "      <td>15.0</td>\n",
       "      <td>0.04</td>\n",
       "    </tr>\n",
       "    <tr>\n",
       "      <th>23</th>\n",
       "      <td>(18, 15)</td>\n",
       "      <td>16.5</td>\n",
       "      <td>0.02</td>\n",
       "    </tr>\n",
       "    <tr>\n",
       "      <th>24</th>\n",
       "      <td>(18, 18)</td>\n",
       "      <td>18.0</td>\n",
       "      <td>0.01</td>\n",
       "    </tr>\n",
       "  </tbody>\n",
       "</table>\n",
       "</div>"
      ],
      "text/plain": [
       "      Sample  Mean  Probability\n",
       "0     (6, 6)   6.0         0.01\n",
       "1     (6, 9)   7.5         0.02\n",
       "2    (6, 12)   9.0         0.04\n",
       "3    (6, 15)  10.5         0.02\n",
       "4    (6, 18)  12.0         0.01\n",
       "5     (9, 6)   7.5         0.02\n",
       "6     (9, 9)   9.0         0.04\n",
       "7    (9, 12)  10.5         0.08\n",
       "8    (9, 15)  12.0         0.04\n",
       "9    (9, 18)  13.5         0.02\n",
       "10   (12, 6)   9.0         0.04\n",
       "11   (12, 9)  10.5         0.08\n",
       "12  (12, 12)  12.0         0.16\n",
       "13  (12, 15)  13.5         0.08\n",
       "14  (12, 18)  15.0         0.04\n",
       "15   (15, 6)  10.5         0.02\n",
       "16   (15, 9)  12.0         0.04\n",
       "17  (15, 12)  13.5         0.08\n",
       "18  (15, 15)  15.0         0.04\n",
       "19  (15, 18)  16.5         0.02\n",
       "20   (18, 6)  12.0         0.01\n",
       "21   (18, 9)  13.5         0.02\n",
       "22  (18, 12)  15.0         0.04\n",
       "23  (18, 15)  16.5         0.02\n",
       "24  (18, 18)  18.0         0.01"
      ]
     },
     "metadata": {},
     "output_type": "display_data"
    }
   ],
   "source": [
    "import numpy as np\n",
    "import pandas as pd\n",
    "from IPython.display import display\n",
    "\n",
    "x = np.array([6, 9, 12, 15, 18])\n",
    "px = np.array([0.1, 0.2, 0.4, 0.2, 0.1])\n",
    "\n",
    "mean = np.sum(x * px)\n",
    "variance = np.sum((x-mean)**2 * px)\n",
    "print(f\"Mean (μ): {mean:.1f}\")\n",
    "print(\"Variance (σ²):\", variance)\n",
    "\n",
    "samples = []\n",
    "means = []\n",
    "probabilities = []\n",
    "\n",
    "for i in x:\n",
    "    for j in x:\n",
    "        sample = (i, j)\n",
    "        samples.append(sample)\n",
    "        mean = (i + j) / 2\n",
    "        means.append(mean)\n",
    "        prob = px[np.where(x == i)[0][0]] * px[np.where(x == j)[0][0]]\n",
    "        probabilities.append(prob)\n",
    "\n",
    "results_df = pd.DataFrame({\n",
    "    'Sample': samples,\n",
    "    'Mean': means,\n",
    "    'Probability': probabilities\n",
    "})\n",
    "\n",
    "display(results_df)"
   ]
  }
 ],
 "metadata": {
  "kernelspec": {
   "display_name": "Python 3 (ipykernel)",
   "language": "python",
   "name": "python3"
  },
  "language_info": {
   "codemirror_mode": {
    "name": "ipython",
    "version": 3
   },
   "file_extension": ".py",
   "mimetype": "text/x-python",
   "name": "python",
   "nbconvert_exporter": "python",
   "pygments_lexer": "ipython3",
   "version": "3.9.13"
  }
 },
 "nbformat": 4,
 "nbformat_minor": 5
}
